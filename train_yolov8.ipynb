{
  "nbformat": 4,
  "nbformat_minor": 0,
  "metadata": {
    "colab": {
      "provenance": [],
      "include_colab_link": true
    },
    "kernelspec": {
      "name": "python3",
      "display_name": "Python 3"
    },
    "language_info": {
      "name": "python"
    }
  },
  "cells": [
    {
      "cell_type": "markdown",
      "metadata": {
        "id": "view-in-github",
        "colab_type": "text"
      },
      "source": [
        "<a href=\"https://colab.research.google.com/github/TranPhu1999/YOLO3-face-mask-detection/blob/main/train_yolov8.ipynb\" target=\"_parent\"><img src=\"https://colab.research.google.com/assets/colab-badge.svg\" alt=\"Open In Colab\"/></a>"
      ]
    },
    {
      "cell_type": "code",
      "source": [
        "from google.colab import drive\n",
        "drive.mount('/content/drive')"
      ],
      "metadata": {
        "colab": {
          "base_uri": "https://localhost:8080/"
        },
        "id": "RXEXcAl35Q-Q",
        "outputId": "b51dcf9f-53b8-44f1-a962-d57380db3f32"
      },
      "execution_count": null,
      "outputs": [
        {
          "output_type": "stream",
          "name": "stdout",
          "text": [
            "Mounted at /content/drive\n"
          ]
        }
      ]
    },
    {
      "cell_type": "markdown",
      "source": [
        "- IMPORT THƯ VIỆN"
      ],
      "metadata": {
        "id": "GHmeA2Co7MCl"
      }
    },
    {
      "cell_type": "code",
      "source": [
        "from IPython.display import Image, display\n",
        "import xml.etree.ElementTree as ET\n",
        "import os\n",
        "from sklearn.model_selection import train_test_split\n",
        "import shutil # High-level file operations\n",
        "import tqdm # show progress bar\n",
        "from datetime import datetime # để đo thời gian train\n",
        "# import utils\n",
        "import matplotlib.pyplot as plt\n",
        "import matplotlib.image as mpimg\n",
        "from google.colab import drive\n",
        "drive.mount('/content/drive')"
      ],
      "metadata": {
        "colab": {
          "base_uri": "https://localhost:8080/"
        },
        "id": "D8GjtEgv7QMd",
        "outputId": "42db9331-b722-46cc-f53e-00d4bc185c69"
      },
      "execution_count": null,
      "outputs": [
        {
          "output_type": "stream",
          "name": "stdout",
          "text": [
            "Drive already mounted at /content/drive; to attempt to forcibly remount, call drive.mount(\"/content/drive\", force_remount=True).\n"
          ]
        }
      ]
    },
    {
      "cell_type": "code",
      "source": [
        "%cd '/content/drive/MyDrive/A_ Face detection'"
      ],
      "metadata": {
        "colab": {
          "base_uri": "https://localhost:8080/"
        },
        "id": "fSjBMgHZ8O6O",
        "outputId": "dca4864b-2929-4bb1-e136-387b6e3dbbba"
      },
      "execution_count": null,
      "outputs": [
        {
          "output_type": "stream",
          "name": "stdout",
          "text": [
            "/content/drive/MyDrive/A_ Face detection\n"
          ]
        }
      ]
    },
    {
      "cell_type": "markdown",
      "source": [
        "- TẢI YOLOv5"
      ],
      "metadata": {
        "id": "sTyHUmmT8bAk"
      }
    },
    {
      "cell_type": "code",
      "source": [
        "!git clone https://github.com/ultralytics/yolov5\n",
        "!pip install -qr yolov5/requirements.txt"
      ],
      "metadata": {
        "colab": {
          "base_uri": "https://localhost:8080/"
        },
        "id": "WfmHuMUl8euX",
        "outputId": "590a862d-1393-4049-eed0-f77f67910288"
      },
      "execution_count": null,
      "outputs": [
        {
          "output_type": "stream",
          "name": "stdout",
          "text": [
            "Cloning into 'yolov5'...\n",
            "remote: Enumerating objects: 15874, done.\u001b[K\n",
            "remote: Counting objects: 100% (105/105), done.\u001b[K\n",
            "remote: Compressing objects: 100% (90/90), done.\u001b[K\n",
            "remote: Total 15874 (delta 46), reused 45 (delta 15), pack-reused 15769\u001b[K\n",
            "Receiving objects: 100% (15874/15874), 14.63 MiB | 10.77 MiB/s, done.\n",
            "Resolving deltas: 100% (10860/10860), done.\n",
            "\u001b[2K     \u001b[90m━━━━━━━━━━━━━━━━━━━━━━━━━━━━━━━━━━━━━━━\u001b[0m \u001b[32m188.5/188.5 kB\u001b[0m \u001b[31m2.5 MB/s\u001b[0m eta \u001b[36m0:00:00\u001b[0m\n",
            "\u001b[2K     \u001b[90m━━━━━━━━━━━━━━━━━━━━━━━━━━━━━━━━━━━━━━━\u001b[0m \u001b[32m606.9/606.9 kB\u001b[0m \u001b[31m6.8 MB/s\u001b[0m eta \u001b[36m0:00:00\u001b[0m\n",
            "\u001b[2K     \u001b[90m━━━━━━━━━━━━━━━━━━━━━━━━━━━━━━━━━━━━━━━━\u001b[0m \u001b[32m62.7/62.7 kB\u001b[0m \u001b[31m3.9 MB/s\u001b[0m eta \u001b[36m0:00:00\u001b[0m\n",
            "\u001b[?25h"
          ]
        }
      ]
    },
    {
      "cell_type": "code",
      "source": [
        "# Tải các file trọng số pretrained weights *.pt\n",
        "!cd /content/yolov5/models/hub && wget https://github.com/ultralytics/yolov5/releases/download/v6.0/yolov5s.pt"
      ],
      "metadata": {
        "colab": {
          "base_uri": "https://localhost:8080/"
        },
        "id": "so0v9TWB8qaB",
        "outputId": "a6dbece0-13d5-4c3a-b5e7-fc8a94785818"
      },
      "execution_count": null,
      "outputs": [
        {
          "output_type": "stream",
          "name": "stdout",
          "text": [
            "/bin/bash: line 1: cd: /content/yolov5/models/hub: No such file or directory\n"
          ]
        }
      ]
    },
    {
      "cell_type": "markdown",
      "source": [
        "# Chuẩn bị dữ liệu"
      ],
      "metadata": {
        "id": "9_AfZT9H9XnI"
      }
    },
    {
      "cell_type": "code",
      "source": [
        "import os\n",
        "\n",
        "len(os.listdir('/content/drive/MyDrive/A_ Face detection/dataset/images'))"
      ],
      "metadata": {
        "colab": {
          "base_uri": "https://localhost:8080/"
        },
        "id": "UohWQQ-vCCTB",
        "outputId": "03a3c1c2-e723-416f-9af3-873556478f61"
      },
      "execution_count": null,
      "outputs": [
        {
          "output_type": "execute_result",
          "data": {
            "text/plain": [
              "972"
            ]
          },
          "metadata": {},
          "execution_count": 10
        }
      ]
    },
    {
      "cell_type": "code",
      "source": [
        "%cd '/content/drive/MyDrive/A_ Face detection'"
      ],
      "metadata": {
        "colab": {
          "base_uri": "https://localhost:8080/"
        },
        "id": "D1p_cEZQF2vg",
        "outputId": "b616b752-f5c6-4ef7-a55e-bc5a70fbc036"
      },
      "execution_count": null,
      "outputs": [
        {
          "output_type": "stream",
          "name": "stdout",
          "text": [
            "/content/drive/MyDrive/A_ Face detection\n"
          ]
        }
      ]
    },
    {
      "cell_type": "markdown",
      "source": [
        "- TRAIN TEST SLIPT"
      ],
      "metadata": {
        "id": "27To3t_ME-uv"
      }
    },
    {
      "cell_type": "code",
      "source": [
        "import os\n",
        "from sklearn.model_selection import train_test_split"
      ],
      "metadata": {
        "id": "B3Hx9y4uClWK"
      },
      "execution_count": null,
      "outputs": []
    },
    {
      "cell_type": "code",
      "source": [
        "all_files = os.listdir('/content/drive/MyDrive/A_ Face detection/dataset/images')\n",
        "train_files, test_files = train_test_split(all_files, test_size=0.2, random_state=1337)\n",
        "train_files, val_files =  train_test_split(train_files, test_size=0.2, random_state=1337)\n",
        "\n",
        "print('Train files:', len(train_files))\n",
        "print('Val files:', len(val_files))\n",
        "print('Test files:', len(test_files))"
      ],
      "metadata": {
        "colab": {
          "base_uri": "https://localhost:8080/"
        },
        "id": "Tm6oIcRfE9S6",
        "outputId": "53ea1b8f-25ef-44a9-a843-aa482e4ce920"
      },
      "execution_count": null,
      "outputs": [
        {
          "output_type": "stream",
          "name": "stdout",
          "text": [
            "Train files: 640\n",
            "Val files: 160\n",
            "Test files: 200\n"
          ]
        }
      ]
    },
    {
      "cell_type": "markdown",
      "source": [
        "# Tạo thư mục dataset theo cấu trúc thư mục dataset của YOLO"
      ],
      "metadata": {
        "id": "uYluBYpXHNJv"
      }
    },
    {
      "cell_type": "code",
      "source": [
        "Thư mục dataset (đặt tên là face) chứ các folder sau:\n",
        "Folder train: gồm 2 folder images & labels:\n",
        "Folder val: tương tự\n",
        "Folder test: tương tự"
      ],
      "metadata": {
        "id": "iGXuk7SAHEUG"
      },
      "execution_count": null,
      "outputs": []
    },
    {
      "cell_type": "code",
      "source": [
        "import os\n",
        "\n",
        "current_directory = os.getcwd()\n",
        "print(\"Bạn đang đứng ở thư mục:\", current_directory)"
      ],
      "metadata": {
        "colab": {
          "base_uri": "https://localhost:8080/"
        },
        "id": "KV6u-Wf-j02z",
        "outputId": "a37bbec9-dba0-40a9-a18a-d588d939cc39"
      },
      "execution_count": null,
      "outputs": [
        {
          "output_type": "stream",
          "name": "stdout",
          "text": [
            "Bạn đang đứng ở thư mục: /content\n"
          ]
        }
      ]
    },
    {
      "cell_type": "code",
      "source": [
        "%cd '/content/drive/MyDrive/A_ Face detection'"
      ],
      "metadata": {
        "colab": {
          "base_uri": "https://localhost:8080/"
        },
        "id": "VKFHW46Tj3-B",
        "outputId": "ea61aa3b-ce4b-4829-876d-3f32f56447c9"
      },
      "execution_count": null,
      "outputs": [
        {
          "output_type": "stream",
          "name": "stdout",
          "text": [
            "/content/drive/MyDrive/A_ Face detection\n"
          ]
        }
      ]
    },
    {
      "cell_type": "code",
      "source": [
        "! mkdir ./face/ # tạo folder dataset tên 'face'"
      ],
      "metadata": {
        "id": "_rb-tr5iHokI"
      },
      "execution_count": null,
      "outputs": []
    },
    {
      "cell_type": "code",
      "source": [
        "# folder 'train'\n",
        "! mkdir -p ./face/train/images\n",
        "! mkdir -p ./face/train/labels\n",
        "# folder 'val'\n",
        "! mkdir -p ./face/val/images\n",
        "! mkdir -p ./face/val/labels\n",
        "#folder 'test'\n",
        "! mkdir -p ./face/test/images\n",
        "! mkdir -p ./face/test/labels\n"
      ],
      "metadata": {
        "id": "8iho-azzHpW_"
      },
      "execution_count": null,
      "outputs": []
    },
    {
      "cell_type": "code",
      "source": [
        "%cd '/content/drive/MyDrive/A_ Face detection/dataset'"
      ],
      "metadata": {
        "colab": {
          "base_uri": "https://localhost:8080/"
        },
        "id": "QlUedW4L1qx2",
        "outputId": "d0077c91-40b6-4225-d6f7-19d9f5fcf2f4"
      },
      "execution_count": null,
      "outputs": [
        {
          "output_type": "stream",
          "name": "stdout",
          "text": [
            "/content/drive/MyDrive/A_ Face detection/dataset\n"
          ]
        }
      ]
    },
    {
      "cell_type": "markdown",
      "source": [
        "- ĐƯA CÁC FILE VÀO THƯ MỤC TƯƠNG ỨNG"
      ],
      "metadata": {
        "id": "wR_zWwJl4i8D"
      }
    },
    {
      "cell_type": "code",
      "source": [
        "img_base = '/content/drive/MyDrive/A_ Face detection/dataset/images'\n",
        "yolo_base = '/content/drive/MyDrive/A_ Face detection/dataset/list_bbox_celeba.txt'\n",
        "\n",
        "def move_files(files, type='train'):\n",
        "  for file in tqdm.tqdm(files): # tqdm: show progess bar\n",
        "    img_src = os.path.join(img_base, file)\n",
        "    ann_src = os.path.join(yolo_base, file.split('.')[0] + '.txt')\n",
        "    img_dst = './face/' + type +'/images/' + file\n",
        "    ann_dst = './face/' + type +'/labels/' + file.split('.')[0] + '.txt'\n",
        "    shutil.copy(img_src, img_dst)\n",
        "    shutil.copy(ann_src, ann_dst)\n",
        "  print('Complete move', type, 'files')\n",
        "\n",
        "move_files(train_files, 'train')\n",
        "move_files(test_files, 'test')\n",
        "move_files(val_files, 'val')"
      ],
      "metadata": {
        "colab": {
          "base_uri": "https://localhost:8080/",
          "height": 407
        },
        "id": "n9XCGCgm1bm0",
        "outputId": "2a167d22-b142-4df8-d137-deb3d91d3268"
      },
      "execution_count": null,
      "outputs": [
        {
          "output_type": "stream",
          "name": "stderr",
          "text": [
            "  0%|          | 0/640 [00:00<?, ?it/s]\n"
          ]
        },
        {
          "output_type": "error",
          "ename": "FileNotFoundError",
          "evalue": "ignored",
          "traceback": [
            "\u001b[0;31m---------------------------------------------------------------------------\u001b[0m",
            "\u001b[0;31mFileNotFoundError\u001b[0m                         Traceback (most recent call last)",
            "\u001b[0;32m<ipython-input-50-a1d981532057>\u001b[0m in \u001b[0;36m<cell line: 14>\u001b[0;34m()\u001b[0m\n\u001b[1;32m     12\u001b[0m   \u001b[0mprint\u001b[0m\u001b[0;34m(\u001b[0m\u001b[0;34m'Complete move'\u001b[0m\u001b[0;34m,\u001b[0m \u001b[0mtype\u001b[0m\u001b[0;34m,\u001b[0m \u001b[0;34m'files'\u001b[0m\u001b[0;34m)\u001b[0m\u001b[0;34m\u001b[0m\u001b[0;34m\u001b[0m\u001b[0m\n\u001b[1;32m     13\u001b[0m \u001b[0;34m\u001b[0m\u001b[0m\n\u001b[0;32m---> 14\u001b[0;31m \u001b[0mmove_files\u001b[0m\u001b[0;34m(\u001b[0m\u001b[0mtrain_files\u001b[0m\u001b[0;34m,\u001b[0m \u001b[0;34m'train'\u001b[0m\u001b[0;34m)\u001b[0m\u001b[0;34m\u001b[0m\u001b[0;34m\u001b[0m\u001b[0m\n\u001b[0m\u001b[1;32m     15\u001b[0m \u001b[0mmove_files\u001b[0m\u001b[0;34m(\u001b[0m\u001b[0mtest_files\u001b[0m\u001b[0;34m,\u001b[0m \u001b[0;34m'test'\u001b[0m\u001b[0;34m)\u001b[0m\u001b[0;34m\u001b[0m\u001b[0;34m\u001b[0m\u001b[0m\n\u001b[1;32m     16\u001b[0m \u001b[0mmove_files\u001b[0m\u001b[0;34m(\u001b[0m\u001b[0mval_files\u001b[0m\u001b[0;34m,\u001b[0m \u001b[0;34m'val'\u001b[0m\u001b[0;34m)\u001b[0m\u001b[0;34m\u001b[0m\u001b[0;34m\u001b[0m\u001b[0m\n",
            "\u001b[0;32m<ipython-input-50-a1d981532057>\u001b[0m in \u001b[0;36mmove_files\u001b[0;34m(files, type)\u001b[0m\n\u001b[1;32m      8\u001b[0m     \u001b[0mimg_dst\u001b[0m \u001b[0;34m=\u001b[0m \u001b[0;34m'./face/'\u001b[0m \u001b[0;34m+\u001b[0m \u001b[0mtype\u001b[0m \u001b[0;34m+\u001b[0m\u001b[0;34m'/images/'\u001b[0m \u001b[0;34m+\u001b[0m \u001b[0mfile\u001b[0m\u001b[0;34m\u001b[0m\u001b[0;34m\u001b[0m\u001b[0m\n\u001b[1;32m      9\u001b[0m     \u001b[0mann_dst\u001b[0m \u001b[0;34m=\u001b[0m \u001b[0;34m'./face/'\u001b[0m \u001b[0;34m+\u001b[0m \u001b[0mtype\u001b[0m \u001b[0;34m+\u001b[0m\u001b[0;34m'/labels/'\u001b[0m \u001b[0;34m+\u001b[0m \u001b[0mfile\u001b[0m\u001b[0;34m.\u001b[0m\u001b[0msplit\u001b[0m\u001b[0;34m(\u001b[0m\u001b[0;34m'.'\u001b[0m\u001b[0;34m)\u001b[0m\u001b[0;34m[\u001b[0m\u001b[0;36m0\u001b[0m\u001b[0;34m]\u001b[0m \u001b[0;34m+\u001b[0m \u001b[0;34m'.txt'\u001b[0m\u001b[0;34m\u001b[0m\u001b[0;34m\u001b[0m\u001b[0m\n\u001b[0;32m---> 10\u001b[0;31m     \u001b[0mshutil\u001b[0m\u001b[0;34m.\u001b[0m\u001b[0mcopy\u001b[0m\u001b[0;34m(\u001b[0m\u001b[0mimg_src\u001b[0m\u001b[0;34m,\u001b[0m \u001b[0mimg_dst\u001b[0m\u001b[0;34m)\u001b[0m\u001b[0;34m\u001b[0m\u001b[0;34m\u001b[0m\u001b[0m\n\u001b[0m\u001b[1;32m     11\u001b[0m     \u001b[0mshutil\u001b[0m\u001b[0;34m.\u001b[0m\u001b[0mcopy\u001b[0m\u001b[0;34m(\u001b[0m\u001b[0mann_src\u001b[0m\u001b[0;34m,\u001b[0m \u001b[0mann_dst\u001b[0m\u001b[0;34m)\u001b[0m\u001b[0;34m\u001b[0m\u001b[0;34m\u001b[0m\u001b[0m\n\u001b[1;32m     12\u001b[0m   \u001b[0mprint\u001b[0m\u001b[0;34m(\u001b[0m\u001b[0;34m'Complete move'\u001b[0m\u001b[0;34m,\u001b[0m \u001b[0mtype\u001b[0m\u001b[0;34m,\u001b[0m \u001b[0;34m'files'\u001b[0m\u001b[0;34m)\u001b[0m\u001b[0;34m\u001b[0m\u001b[0;34m\u001b[0m\u001b[0m\n",
            "\u001b[0;32m/usr/lib/python3.10/shutil.py\u001b[0m in \u001b[0;36mcopy\u001b[0;34m(src, dst, follow_symlinks)\u001b[0m\n\u001b[1;32m    415\u001b[0m     \u001b[0;32mif\u001b[0m \u001b[0mos\u001b[0m\u001b[0;34m.\u001b[0m\u001b[0mpath\u001b[0m\u001b[0;34m.\u001b[0m\u001b[0misdir\u001b[0m\u001b[0;34m(\u001b[0m\u001b[0mdst\u001b[0m\u001b[0;34m)\u001b[0m\u001b[0;34m:\u001b[0m\u001b[0;34m\u001b[0m\u001b[0;34m\u001b[0m\u001b[0m\n\u001b[1;32m    416\u001b[0m         \u001b[0mdst\u001b[0m \u001b[0;34m=\u001b[0m \u001b[0mos\u001b[0m\u001b[0;34m.\u001b[0m\u001b[0mpath\u001b[0m\u001b[0;34m.\u001b[0m\u001b[0mjoin\u001b[0m\u001b[0;34m(\u001b[0m\u001b[0mdst\u001b[0m\u001b[0;34m,\u001b[0m \u001b[0mos\u001b[0m\u001b[0;34m.\u001b[0m\u001b[0mpath\u001b[0m\u001b[0;34m.\u001b[0m\u001b[0mbasename\u001b[0m\u001b[0;34m(\u001b[0m\u001b[0msrc\u001b[0m\u001b[0;34m)\u001b[0m\u001b[0;34m)\u001b[0m\u001b[0;34m\u001b[0m\u001b[0;34m\u001b[0m\u001b[0m\n\u001b[0;32m--> 417\u001b[0;31m     \u001b[0mcopyfile\u001b[0m\u001b[0;34m(\u001b[0m\u001b[0msrc\u001b[0m\u001b[0;34m,\u001b[0m \u001b[0mdst\u001b[0m\u001b[0;34m,\u001b[0m \u001b[0mfollow_symlinks\u001b[0m\u001b[0;34m=\u001b[0m\u001b[0mfollow_symlinks\u001b[0m\u001b[0;34m)\u001b[0m\u001b[0;34m\u001b[0m\u001b[0;34m\u001b[0m\u001b[0m\n\u001b[0m\u001b[1;32m    418\u001b[0m     \u001b[0mcopymode\u001b[0m\u001b[0;34m(\u001b[0m\u001b[0msrc\u001b[0m\u001b[0;34m,\u001b[0m \u001b[0mdst\u001b[0m\u001b[0;34m,\u001b[0m \u001b[0mfollow_symlinks\u001b[0m\u001b[0;34m=\u001b[0m\u001b[0mfollow_symlinks\u001b[0m\u001b[0;34m)\u001b[0m\u001b[0;34m\u001b[0m\u001b[0;34m\u001b[0m\u001b[0m\n\u001b[1;32m    419\u001b[0m     \u001b[0;32mreturn\u001b[0m \u001b[0mdst\u001b[0m\u001b[0;34m\u001b[0m\u001b[0;34m\u001b[0m\u001b[0m\n",
            "\u001b[0;32m/usr/lib/python3.10/shutil.py\u001b[0m in \u001b[0;36mcopyfile\u001b[0;34m(src, dst, follow_symlinks)\u001b[0m\n\u001b[1;32m    254\u001b[0m         \u001b[0;32mwith\u001b[0m \u001b[0mopen\u001b[0m\u001b[0;34m(\u001b[0m\u001b[0msrc\u001b[0m\u001b[0;34m,\u001b[0m \u001b[0;34m'rb'\u001b[0m\u001b[0;34m)\u001b[0m \u001b[0;32mas\u001b[0m \u001b[0mfsrc\u001b[0m\u001b[0;34m:\u001b[0m\u001b[0;34m\u001b[0m\u001b[0;34m\u001b[0m\u001b[0m\n\u001b[1;32m    255\u001b[0m             \u001b[0;32mtry\u001b[0m\u001b[0;34m:\u001b[0m\u001b[0;34m\u001b[0m\u001b[0;34m\u001b[0m\u001b[0m\n\u001b[0;32m--> 256\u001b[0;31m                 \u001b[0;32mwith\u001b[0m \u001b[0mopen\u001b[0m\u001b[0;34m(\u001b[0m\u001b[0mdst\u001b[0m\u001b[0;34m,\u001b[0m \u001b[0;34m'wb'\u001b[0m\u001b[0;34m)\u001b[0m \u001b[0;32mas\u001b[0m \u001b[0mfdst\u001b[0m\u001b[0;34m:\u001b[0m\u001b[0;34m\u001b[0m\u001b[0;34m\u001b[0m\u001b[0m\n\u001b[0m\u001b[1;32m    257\u001b[0m                     \u001b[0;31m# macOS\u001b[0m\u001b[0;34m\u001b[0m\u001b[0;34m\u001b[0m\u001b[0m\n\u001b[1;32m    258\u001b[0m                     \u001b[0;32mif\u001b[0m \u001b[0m_HAS_FCOPYFILE\u001b[0m\u001b[0;34m:\u001b[0m\u001b[0;34m\u001b[0m\u001b[0;34m\u001b[0m\u001b[0m\n",
            "\u001b[0;31mFileNotFoundError\u001b[0m: [Errno 2] No such file or directory: './face/train/images/000581.jpg'"
          ]
        }
      ]
    },
    {
      "cell_type": "markdown",
      "source": [
        "# 3. TRAINING AND TEST"
      ],
      "metadata": {
        "id": "hSBxois8z9vw"
      }
    },
    {
      "cell_type": "markdown",
      "source": [
        "# 3.1 Training from scratch Dưới đây là mô tả các tham số cần thiết để huấn luyện mô hình YOLOv5 và ý nghĩa của chúng:"
      ],
      "metadata": {
        "id": "8Yd9te_K6aYR"
      }
    },
    {
      "cell_type": "markdown",
      "source": [
        "3.1 Training from scratch\n",
        "Dưới đây là mô tả các tham số cần thiết để huấn luyện mô hình YOLOv5 và ý nghĩa của chúng:\n",
        "\n",
        "'batch': Kích thước batch dùng trong quá trình huấn luyện. Đặt -1 để sử dụng batch size tối đa mà phần cứng của bạn hỗ trợ.\n",
        "\n",
        "'epochs': Số lượng epoch, tức là số lần huấn luyện sẽ thực hiện trên toàn bộ tập dữ liệu. Đặt giá trị nhỏ hơn để huấn luyện nhanh hơn.\n",
        "\n",
        "'data': Đường dẫn đến tệp cấu hình dữ liệu (data-configurations file). Tệp cấu hình dữ liệu chứa thông tin về tập dữ liệu, bao gồm đường dẫn đến các tệp dữ liệu và số lượng lớp.\n",
        "\n",
        "'cfg': Đường dẫn đến tệp cấu hình mô hình (model-configurations file). Tệp cấu hình mô hình chứa thông tin về kiến trúc của mô hình YOLOv5 được sử dụng.\n",
        "\n",
        "'weights': Đường dẫn đến trọng số ban đầu (initial weights). Bạn có thể sử dụng các trọng số đã được huấn luyện từ các mô hình có sẵn (pretrained models). Kiến trúc mô hình sẽ phụ thuộc vào tệp trọng số được cung cấp.\n",
        "\n",
        "'cache': Lưu ảnh vào bộ nhớ cache để tăng tốc độ huấn luyện.\n",
        "\n",
        "'img': Kích thước ảnh dùng trong quá trình huấn luyện. Mặc định là 640 pixels."
      ],
      "metadata": {
        "id": "C5-hMWwTzzlT"
      }
    },
    {
      "cell_type": "code",
      "source": [
        "start = datetime.now()\n",
        "!python yolov5/train.py --batch 32 --epochs 100 --data ./facemask/facemask.yaml \\\n",
        "                        --weights '' --cfg '/content/drive/MyDrive/A_ Face detection/yolov5/models/hub/yolov5s6.yaml' \\\n",
        "                        --patience 50\n",
        "end = datetime.now()\n",
        "print(f'training time: {end-start}')"
      ],
      "metadata": {
        "id": "aoT9Ttun0NTD"
      },
      "execution_count": null,
      "outputs": []
    },
    {
      "cell_type": "markdown",
      "source": [
        "# 3.2. Training using pretrained weights\n",
        "- Bây giờ ta sẽ train model sdung pretrained weights từ mô hình yolov5s6. Warm up là quá trình cần thiết để mô hình hội tụ nhanh hơn. Warm up sẽ đóng băng lại các layers CNN để cho hệ số của chúng không đổi và chỉ train lại trên các Fully Conntected Layers ở cuối cùng. Mục đích của warm up là giữ nguyên được các đặc trưng bậc cao (high-level) đã được học từ pretrained-model\n",
        "- Mặt khác, model thường gồm 2 component: backbone layers (đóng vai trò như feature extractor) & head layers (tính toán gtri output cho prediction). Trong code cell này, ta thử sử dụng cùng backbone layers giống với yolov5s6 (i.e. giữ nguyên 12 layers), và chỉ train phần model's head layers. Như vậy ta freeze 12 layers đầu\n",
        "- Tham số ta truyền cũng giống trên, bsung thêm:\n",
        "freeze — number of layers to freeze\n",
        "project — name of the project\n",
        "name — name of the run\n",
        "- Nếu 2 tham số project='runs_facemask' & name='feature_extraction' dc specify thì kqua sẽ dc lưu tại folder /content/runs_facemask/feature_extraction/, còn ko thì mặc định lưu tại folder yolov5/runs/train"
      ],
      "metadata": {
        "id": "T-XuuLbe2dWo"
      }
    },
    {
      "cell_type": "code",
      "source": [
        "start = datetime.now()\n",
        "!python yolov5/train.py --batch 32 --epochs 100 --data ./facemask/facemask.yaml \\\n",
        "                        --weights yolov5/models/hub/yolov5s6.pt --cache --patience 50 \\\n",
        "                        --freeze 12 --project 'runs_facemask' --name 'feature_extraction' --exist-ok\n",
        "end = datetime.now()\n",
        "print(f'training time: {end-start}')"
      ],
      "metadata": {
        "id": "oBjvbpSLztCz"
      },
      "execution_count": null,
      "outputs": []
    },
    {
      "cell_type": "markdown",
      "source": [
        "# ĐÁNH GIÁ THUẬT TOÁN BẰNG MA TRẬN NHẦM LẪN"
      ],
      "metadata": {
        "id": "m724HaQk6LeZ"
      }
    },
    {
      "cell_type": "code",
      "source": [],
      "metadata": {
        "id": "r2kejvmg6vlS"
      },
      "execution_count": null,
      "outputs": []
    },
    {
      "cell_type": "markdown",
      "source": [
        "# NHẬN DIỆN GƯƠNG MẶT BẰNG CAMERA"
      ],
      "metadata": {
        "id": "QI-RwGQz6mdQ"
      }
    },
    {
      "cell_type": "code",
      "source": [],
      "metadata": {
        "id": "wpJhVeoh6tw5"
      },
      "execution_count": null,
      "outputs": []
    },
    {
      "cell_type": "code",
      "source": [],
      "metadata": {
        "id": "WjAXdZGY6UBz"
      },
      "execution_count": null,
      "outputs": []
    }
  ]
}